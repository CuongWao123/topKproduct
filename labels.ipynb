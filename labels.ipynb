{
 "cells": [
  {
   "cell_type": "markdown",
   "id": "1e6c4a81",
   "metadata": {},
   "source": [
    "# CREATE TRAIN DATASET"
   ]
  },
  {
   "cell_type": "code",
   "execution_count": null,
   "id": "0775d443",
   "metadata": {},
   "outputs": [],
   "source": [
    "import pandas as pd \n",
    "import numpy as np"
   ]
  },
  {
   "cell_type": "code",
   "execution_count": null,
   "id": "ea11d404",
   "metadata": {},
   "outputs": [],
   "source": [
    "\n",
    "#  LOAD 10 FIRST MONTH \n",
    "\n",
    "\n",
    "month1 = pd.read_csv('data/batch/2015-01-28.csv')\n",
    "month2 = pd.read_csv('data/batch/2015-02-28.csv')\n",
    "month3 = pd.read_csv('data/batch/2015-03-28.csv')\n",
    "month4 = pd.read_csv('data/batch/2015-04-28.csv')\n",
    "month5 = pd.read_csv('data/batch/2015-05-28.csv')\n",
    "month6 = pd.read_csv('data/batch/2015-06-28.csv')\n",
    "month7 = pd.read_csv('data/batch/2015-07-28.csv')\n",
    "month8 = pd.read_csv('data/batch/2015-08-28.csv')\n",
    "month9 = pd.read_csv('data/batch/2015-09-28.csv')\n",
    "month10 = pd.read_csv('data/batch/2015-10-28.csv')\n"
   ]
  },
  {
   "cell_type": "markdown",
   "id": "bb4bc931",
   "metadata": {},
   "source": [
    "## CUT OFF DATE 7/2015\n",
    "\n",
    "- Customer do not have the account (ex: saving_account = 0 ) at cut off date \n",
    "- Label_1 : convert from 0 -> 1 in next 3 months (8 9 10/2025) \n",
    "- Label_0 : 0 -> 0 in next 3 months \n"
   ]
  },
  {
   "cell_type": "markdown",
   "id": "92f646d1",
   "metadata": {},
   "source": [
    "- Concat 7 months and set account holding at 7/2015 "
   ]
  },
  {
   "cell_type": "code",
   "execution_count": null,
   "id": "a4ed93e6",
   "metadata": {},
   "outputs": [],
   "source": [
    "month1.info()"
   ]
  },
  {
   "cell_type": "code",
   "execution_count": null,
   "id": "4711bb0c",
   "metadata": {},
   "outputs": [],
   "source": [
    "df = pd.concat([month1, month2, month3, month4, month5, month6, month7])\n",
    "\n",
    "account_columns = [\n",
    "    'savings_account', 'guarantees', 'current_accounts', 'deriv_investments',\n",
    "    'payroll_accounts', 'junior_accounts', 'more_particular_accounts', \n",
    "    'particular_accounts', 'particular_plus_accounts', 'short_term_deposits',\n",
    "    'medium_term_deposits', 'long_term_deposits', 'e_account', 'funds',\n",
    "    'mortgage', 'pensions', 'loans', 'taxes', 'credit_card', 'securities',\n",
    "    'home_account', 'payroll', 'pensions_2', 'direct_debit'\n",
    "]\n",
    "\n",
    "df_no_accounts = df.drop(columns=account_columns)\n",
    "\n",
    "month7_accounts = month7[['customer_id'] + account_columns]\n",
    "df_final = df_no_accounts.merge(month7_accounts, on='customer_id', how='left')\n",
    "\n"
   ]
  },
  {
   "cell_type": "markdown",
   "id": "b79de014",
   "metadata": {},
   "source": [
    "## Create labels "
   ]
  },
  {
   "cell_type": "markdown",
   "id": "ed0662d7",
   "metadata": {},
   "source": [
    "From cut-off date looking in the future 3 months (8 9 10) \n",
    "\n",
    "- Label_1: 0->1 \n",
    "- Label_0: 0->0"
   ]
  },
  {
   "cell_type": "code",
   "execution_count": null,
   "id": "34e95903",
   "metadata": {},
   "outputs": [],
   "source": [
    "# merge month 8 9 10\n",
    "future_months = pd.concat([month8, month9, month10])\n",
    "\n",
    "# Group by customer và check nếu có account = 1 trong 3 tháng\n",
    "labels = future_months.groupby('customer_id')[account_columns].max().reset_index()\n",
    "\n",
    "label_columns = {col: f'{col}_label' for col in account_columns}\n",
    "labels = labels.rename(columns=label_columns)\n",
    "\n",
    "print(f\"Shape của future_months: {future_months.shape}\")\n",
    "print(f\"Shape của labels: {labels.shape}\")\n",
    "print(f\"unique In labels: {labels['customer_id'].nunique()}\")\n",
    "\n",
    "labels.head()"
   ]
  },
  {
   "cell_type": "code",
   "execution_count": null,
   "id": "4cfe9be9",
   "metadata": {},
   "outputs": [],
   "source": [
    "labels"
   ]
  },
  {
   "cell_type": "code",
   "execution_count": null,
   "id": "c4818ba5",
   "metadata": {},
   "outputs": [],
   "source": [
    "#  free memory month 1 -> 10 \n",
    "del month1, month2, month3, month4, month5, month6, month7\n",
    "del month8, month9, month10\n",
    "del df, df_no_accounts, month7_accounts, future_months\n"
   ]
  },
  {
   "cell_type": "code",
   "execution_count": null,
   "id": "9508b66f",
   "metadata": {},
   "outputs": [],
   "source": [
    "#  logic labels \n",
    "def create_final_labels(df_final, labels, account_columns):\n",
    "    merged = df_final.merge(labels, on='customer_id', how='left')\n",
    "\n",
    "    label_cols_to_drop = []\n",
    "\n",
    "    for account in account_columns:\n",
    "        label_col = f'{account}_label'\n",
    "        final_label_col = f'{account}_final_label'\n",
    "        label_cols_to_drop.append(label_col)\n",
    "\n",
    "        merged[final_label_col] = np.zeros(len(merged), dtype=np.int8)\n",
    "\n",
    "        mask_has_july = merged[account] == 1\n",
    "        merged.loc[mask_has_july, final_label_col] = -1\n",
    "\n",
    "        mask_convert = (~mask_has_july) & (merged[label_col] == 1)\n",
    "        merged.loc[mask_convert, final_label_col] = 1\n",
    "\n",
    "    merged.drop(columns=account_columns, inplace=True)\n",
    "\n",
    "    merged.drop(columns=label_cols_to_drop, inplace=True)\n",
    "\n",
    "    return merged\n",
    "\n",
    "\n",
    "final_dataset = create_final_labels(df_final, labels, account_columns)\n",
    "\n",
    "print(\"Ví dụ cho savings_account:\")\n",
    "print(\"Có account tại tháng 7 (label=-1):\", (final_dataset['savings_account_final_label'] == -1).sum())\n",
    "print(\"Convert 0->1 (label=1):\", (final_dataset['savings_account_final_label'] == 1).sum()) \n",
    "print(\"Không convert 0->0 (label=0):\", (final_dataset['savings_account_final_label'] == 0).sum())\n",
    "\n",
    "print(f\"\\nShape của final_dataset: {final_dataset.shape}\")\n",
    "final_dataset.head(10)\n"
   ]
  },
  {
   "cell_type": "code",
   "execution_count": null,
   "id": "d915c27a",
   "metadata": {},
   "outputs": [],
   "source": [
    "final_dataset.info()"
   ]
  },
  {
   "cell_type": "code",
   "execution_count": null,
   "id": "619d4f88",
   "metadata": {},
   "outputs": [],
   "source": [
    "# save dataset\n",
    "final_dataset.to_csv('data/processed/train.csv', index=False)\n"
   ]
  },
  {
   "cell_type": "code",
   "execution_count": null,
   "id": "42347980",
   "metadata": {},
   "outputs": [],
   "source": [
    "\n",
    "import gc\n",
    "import psutil\n",
    "import os\n",
    "\n",
    "try:\n",
    "    del month1, month2, month3, month4, month5, month6, month7\n",
    "    del month8, month9, month10\n",
    "    del df, df_no_accounts, month7_accounts, future_months\n",
    "    del df_final, labels, final_dataset\n",
    "    del account_columns, label_columns\n",
    "    print(\"Deleted all major variables\")\n",
    "except:\n",
    "    print(\"Some variables already deleted\")\n",
    "\n",
    "for i in range(3):\n",
    "    collected = gc.collect()\n",
    "    print(f\"Garbage collection {i+1}: {collected} objects collected\")\n",
    "\n",
    "\n",
    "\n",
    "process = psutil.Process(os.getpid())\n",
    "memory_mb = process.memory_info().rss / 1024 / 1024\n",
    "print(f\"Current memory usage: {memory_mb:.2f} MB\")\n",
    "\n",
    "print(\"Memory cleanup completed!\")"
   ]
  },
  {
   "cell_type": "markdown",
   "id": "12cf42e8",
   "metadata": {},
   "source": [
    "# Create Test set"
   ]
  },
  {
   "cell_type": "code",
   "execution_count": null,
   "id": "0ca26aa2",
   "metadata": {},
   "outputs": [],
   "source": [
    "def create_dataset(cutoff_month, cutoff_year=2015, training_months=7, future_months_count=3, dataset_name=\"dataset\"):\n",
    "    \"\"\"\n",
    "    Create dataset with cutoff date and future months for labeling\n",
    "    \n",
    "    Parameters:\n",
    "    - cutoff_month: int (1-12), cutoff month \n",
    "    - cutoff_year: int, cutoff year (2015, 2016, etc.)\n",
    "    - training_months: int, number of months before cutoff for training\n",
    "    - future_months_count: int, number of future months to create labels\n",
    "    - dataset_name: str, dataset name to save\n",
    "    \n",
    "    Returns:\n",
    "    - final_dataset: DataFrame\n",
    "    \"\"\"\n",
    "    \n",
    "    # Define account columns\n",
    "    account_columns = [\n",
    "        'savings_account', 'guarantees', 'current_accounts', 'deriv_investments',\n",
    "        'payroll_accounts', 'junior_accounts', 'more_particular_accounts', \n",
    "        'particular_accounts', 'particular_plus_accounts', 'short_term_deposits',\n",
    "        'medium_term_deposits', 'long_term_deposits', 'e_account', 'funds',\n",
    "        'mortgage', 'pensions', 'loans', 'taxes', 'credit_card', 'securities',\n",
    "        'home_account', 'payroll', 'pensions_2', 'direct_debit'\n",
    "    ]\n",
    "    \n",
    "    print(f\"Creating {dataset_name} with cutoff {cutoff_month}/{cutoff_year}\")\n",
    "    print(f\"Training period: {training_months} months before cutoff\")\n",
    "    \n",
    "    # 1. Calculate training months with proper year handling\n",
    "    months_data = []\n",
    "    \n",
    "    # Calculate start month and year\n",
    "    total_months_from_start = (cutoff_year - 2015) * 12 + cutoff_month\n",
    "    start_total_months = total_months_from_start - training_months + 1\n",
    "    \n",
    "    for i in range(training_months):\n",
    "        current_total_months = start_total_months + i\n",
    "        current_year = 2015 + (current_total_months - 1) // 12\n",
    "        current_month = ((current_total_months - 1) % 12) + 1\n",
    "        \n",
    "        month_file = f'data/batch/{current_year}-{current_month:02d}-28.csv'\n",
    "        month_df = pd.read_csv(month_file)\n",
    "        months_data.append(month_df)\n",
    "        print(f\"Loaded training month {current_month}/{current_year}\")\n",
    "    \n",
    "    # 2. Concatenate training months\n",
    "    df = pd.concat(months_data, ignore_index=True)\n",
    "    \n",
    "    # 3. Load cutoff month data for account holdings\n",
    "    cutoff_file = f'data/batch/{cutoff_year}-{cutoff_month:02d}-28.csv'\n",
    "    cutoff_month_data = pd.read_csv(cutoff_file)\n",
    "    print(f\"Loaded cutoff month {cutoff_month}/{cutoff_year}\")\n",
    "    \n",
    "    df_no_accounts = df.drop(columns=account_columns)\n",
    "    cutoff_accounts = cutoff_month_data[['customer_id'] + account_columns]\n",
    "    df_final = df_no_accounts.merge(cutoff_accounts, on='customer_id', how='left')\n",
    "    \n",
    "    print(f\"Training data shape: {df_final.shape}\")\n",
    "    \n",
    "    # 4. Load future months to create labels\n",
    "    future_data = []\n",
    "    cutoff_total_months = (cutoff_year - 2015) * 12 + cutoff_month\n",
    "    \n",
    "    for i in range(1, future_months_count + 1):\n",
    "        future_total_months = cutoff_total_months + i\n",
    "        future_year = 2015 + (future_total_months - 1) // 12\n",
    "        future_month = ((future_total_months - 1) % 12) + 1\n",
    "        \n",
    "        future_file = f'data/batch/{future_year}-{future_month:02d}-28.csv'\n",
    "        future_month_df = pd.read_csv(future_file)\n",
    "        future_data.append(future_month_df)\n",
    "        print(f\"Loaded future month {future_month}/{future_year}\")\n",
    "    \n",
    "    # 5. Create labels from future months\n",
    "    future_months = pd.concat(future_data, ignore_index=True)\n",
    "    labels = future_months.groupby('customer_id')[account_columns].max().reset_index()\n",
    "    label_columns = {col: f'{col}_label' for col in account_columns}\n",
    "    labels = labels.rename(columns=label_columns)\n",
    "    \n",
    "    print(f\"Labels shape: {labels.shape}\")\n",
    "    \n",
    "    # 6. Create final labels with conversion logic\n",
    "    def create_final_labels(df_final, labels, account_columns):\n",
    "        merged = df_final.merge(labels, on='customer_id', how='left')\n",
    "        \n",
    "        for account in account_columns:\n",
    "            label_col = f'{account}_label'\n",
    "            final_label_col = f'{account}_final_label'\n",
    "            \n",
    "            merged[final_label_col] = np.zeros(len(merged), dtype=np.int8)\n",
    "            \n",
    "            # Already has account at cutoff month -> label = -1\n",
    "            mask_has_cutoff = merged[account] == 1\n",
    "            merged.loc[mask_has_cutoff, final_label_col] = -1\n",
    "            \n",
    "            # Convert 0->1 in future months -> label = 1\n",
    "            mask_convert = (~mask_has_cutoff) & (merged[label_col] == 1)\n",
    "            merged.loc[mask_convert, final_label_col] = 1\n",
    "        \n",
    "        # Drop original columns\n",
    "        merged.drop(columns=account_columns, inplace=True)\n",
    "        merged.drop(columns=[f'{col}_label' for col in account_columns], inplace=True)\n",
    "        \n",
    "        return merged\n",
    "    \n",
    "    final_dataset = create_final_labels(df_final, labels, account_columns)\n",
    "    \n",
    "    # 7. Print statistics\n",
    "    print(f\"\\n{dataset_name} Statistics:\")\n",
    "    print(f\"Final dataset shape: {final_dataset.shape}\")\n",
    "    print(\"Example for savings_account:\")\n",
    "    print(f\"Already has account at cutoff (label=-1): {(final_dataset['savings_account_final_label'] == -1).sum()}\")\n",
    "    print(f\"Convert 0->1 (label=1): {(final_dataset['savings_account_final_label'] == 1).sum()}\")\n",
    "    print(f\"No conversion 0->0 (label=0): {(final_dataset['savings_account_final_label'] == 0).sum()}\")\n",
    "    \n",
    "    # 8. Save dataset\n",
    "    final_dataset.to_csv(f'data/processed/{dataset_name}.csv', index=False)\n",
    "    print(f\"Dataset saved to data/processed/{dataset_name}.csv\")\n",
    "\n",
    "    import gc\n",
    "    # 9. Memory cleanup\n",
    "    del df, df_no_accounts, cutoff_accounts, df_final\n",
    "    del future_data, future_months, labels\n",
    "    gc.collect()\n",
    "    \n",
    "    return final_dataset\n"
   ]
  },
  {
   "cell_type": "code",
   "execution_count": null,
   "id": "3318dea8",
   "metadata": {},
   "outputs": [],
   "source": [
    "\n",
    "\n",
    "test1 = create_dataset(         cutoff_month=8, \n",
    "                        cutoff_year=2015, \n",
    "                        training_months=7, \n",
    "                        future_months_count=3, \n",
    "                        dataset_name=\"test_8_2015\") \n",
    "\n"
   ]
  },
  {
   "cell_type": "code",
   "execution_count": null,
   "id": "558806ff",
   "metadata": {},
   "outputs": [],
   "source": [
    "test1 "
   ]
  },
  {
   "cell_type": "code",
   "execution_count": null,
   "id": "79414978",
   "metadata": {},
   "outputs": [],
   "source": [
    "create_dataset( cutoff_month=9, cutoff_year=2015,training_months=7,\n",
    "               future_months_count=3,  dataset_name=\"test_9_2015\") \n",
    "\n",
    "create_dataset( cutoff_month=10, cutoff_year=2015,training_months=7,\n",
    "               future_months_count=3,  dataset_name=\"test_10_2015\")\n",
    "\n",
    "create_dataset( cutoff_month=11, cutoff_year=2015,training_months=7,\n",
    "               future_months_count=3,  dataset_name=\"test_11_2015\")\n",
    "\n",
    "create_dataset( cutoff_month=12, cutoff_year=2015,training_months=7,\n",
    "               future_months_count=3,  dataset_name=\"test_12_2015\")\n",
    "\n",
    "create_dataset( cutoff_month=1, cutoff_year=2016,training_months=7,\n",
    "               future_months_count=3,  dataset_name=\"test_1_2016\")\n",
    "\n",
    "create_dataset( cutoff_month=2, cutoff_year=2016,training_months=7,\n",
    "               future_months_count=3,  dataset_name=\"test_2_2016\")\n",
    "\n"
   ]
  },
  {
   "cell_type": "code",
   "execution_count": null,
   "id": "7d84a0ca",
   "metadata": {},
   "outputs": [],
   "source": []
  }
 ],
 "metadata": {
  "kernelspec": {
   "display_name": "Python 3",
   "language": "python",
   "name": "python3"
  },
  "language_info": {
   "codemirror_mode": {
    "name": "ipython",
    "version": 3
   },
   "file_extension": ".py",
   "mimetype": "text/x-python",
   "name": "python",
   "nbconvert_exporter": "python",
   "pygments_lexer": "ipython3",
   "version": "3.12.6"
  }
 },
 "nbformat": 4,
 "nbformat_minor": 5
}
